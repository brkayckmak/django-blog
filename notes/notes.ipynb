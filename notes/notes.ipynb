{
 "cells": [
  {
   "cell_type": "markdown",
   "metadata": {},
   "source": [
    "# **GIT**"
   ]
  },
  {
   "cell_type": "markdown",
   "metadata": {},
   "source": [
    "### **GIT Komutları**"
   ]
  },
  {
   "cell_type": "markdown",
   "metadata": {},
   "source": [
    "* **git init**: Bu command ile bulunulan path bir git ortamına dönüştürülür.\n",
    "* **git status**: Dosya içerisinde neler olup bittiğini (değiştirildiğini) görmek için kullanılır.\n",
    "* **git add .**: Bu komut ile git reposu staging kısmına aktarılır. Bu kısımda repo içerisinde bulunan dosyalar kalıcı olarak kaydedilmek üzere beklemektedir.\n",
    "* **git add #dosya_adi#**: Bu komut ile sadece istenilen dosya staging'e aktarılır. \n",
    "* **git rm --cached #dosya_adi#**: Bu komut ile belirtilen dosya staging'den çıkarılır, bu dosya artık kaydetmeye hazır değildir.\n",
    "* **git commit -m \"#yorum#\"**: Git history'sinde bir yorum ile değişiklikleri kaydetmek için kullanılır.\n",
    "* **git log**: Bu command ile geçmiş commitler gösterilir.\n",
    "* **git reset --hard**: Otomatik olarak bir önceki commit'te bulunan dosya düzenine dönülür."
   ]
  },
  {
   "cell_type": "markdown",
   "metadata": {},
   "source": [
    "### **GIT Branch**"
   ]
  },
  {
   "cell_type": "markdown",
   "metadata": {},
   "source": [
    "![branch_merge](./git_branch_merge.png)"
   ]
  },
  {
   "cell_type": "markdown",
   "metadata": {},
   "source": [
    "Master, projenin ana köküdür. Mavi daireler ise commitlerdir."
   ]
  },
  {
   "cell_type": "markdown",
   "metadata": {},
   "source": [
    "Projeye yeni gelen biri new_feature gibi bir branch açar, bu branch master ile aynı dosya düzenine ve içeriğine sahiptir. new_feature branch'i düzenlendiğinde master'a merge edilerek yeni dosyalar projeye eklenir."
   ]
  },
  {
   "cell_type": "markdown",
   "metadata": {},
   "source": [
    "* **git branch**: Bu command ile repo'daki branchler görülür.\n",
    "* **git branch #branch_adi#**: Bu command ile yeni bir branch oluşturulur.\n",
    "* **git checkout #branch_adi#**: Bu command ile istenen branch'e geçilir."
   ]
  },
  {
   "cell_type": "markdown",
   "metadata": {},
   "source": [
    "Bir branch oluşturup bu branch'te değişiklikler yaptıktan sonra master branch'ine geçildiğinde yeni branch'te yapılan değişiklikler master'a merge edilmediği için kaybolur. Oluşturulan branch'e geçildiğinde yeniden görünmeye başlar."
   ]
  },
  {
   "cell_type": "markdown",
   "metadata": {},
   "source": [
    "* **git merge #branch_adi#**: Bu command ile master'dayken istenilen branch master'a merge edilir. Merge edilecek branch'teki değişiklikler master'a aktarılır.\n",
    "* **git branch -D #branch_adi#**: By command ile istenilen branch silinir."
   ]
  },
  {
   "cell_type": "markdown",
   "metadata": {},
   "source": [
    "### **GITHUB'a Aktarma**"
   ]
  },
  {
   "cell_type": "markdown",
   "metadata": {},
   "source": [
    "* **git remote add origin #repo_linki#**: Bu command ile local'daki dosya repoya bağlanır.\n",
    "* **git push origin #branch_adi#**: Bu command ile belirlenen branch'e local'daki dosyalar gönderilir."
   ]
  },
  {
   "cell_type": "markdown",
   "metadata": {},
   "source": [
    "# **DJANGO**"
   ]
  },
  {
   "cell_type": "markdown",
   "metadata": {},
   "source": [
    "* **django-admin startproject config .**: Bu command ile bulunulan path'de bir Django projesi oluşturulur."
   ]
  },
  {
   "cell_type": "markdown",
   "metadata": {},
   "source": [
    "Yukarıdaki command girildikten sonra otomatik oluşan config dosyası projenin beynidir. manage.py dosyası ile de çeşitli şekillerde proje yönetilmektedir."
   ]
  },
  {
   "cell_type": "markdown",
   "metadata": {},
   "source": [
    "Config dosyası içerisindeki\n",
    "* *wsgi.py* (Web Server Gateway Interface) ve *asgi.py* dosyaları ile proje ile iletişime geçilmektedir.\n",
    "* *settings.py* dosyasında projenin ayarları tutulmaktadır.\n",
    "* *urls.py* dosyasında proje içerisinde bulunacak tüm url'ler bulunmaktadır."
   ]
  },
  {
   "cell_type": "markdown",
   "metadata": {},
   "source": [
    "settings.py içerisindeki\n",
    "* \"SECRET_KEY\" projenin güvenli anahtarıdır, paylaşılmamalıdır.\n",
    "* \"DEBUG\" bu mod açıkken tüm hatalar görünmektedir. Productionda bu mod kapatılmalıdır.\n",
    "* \"ALLOWED_HOSTS\" productionda hangi dıştaki bilgisayarların ve yazılımların bu proje ile haberleşebileceği tanımlanır.\n",
    "* \"INSTALLED_APPS\" projede kullanılacak app'ler burada tanımlanır.\n",
    "* \"MIDDLEWARE\" bu bölüm sisteme gelen isteklerin güvenli olup olmadığını kontrol eder.\n",
    "* \"ROOT_URLCONF\" projenin url'lerinin nerede olduğu belirtilir.\n",
    "* \"WSGI_APPLICATION\" projenin dış dünya ile haberleşmesi için bulunur. wsgi.py içerisindeki \"application\" ile dış dünya ile haberleşilir.\n",
    "* \"DATABASES\" projenin database'idir. Django default olarak sqlite kullanır.\n",
    "* \"AUTH_PASSWORD_VALIDATORS\" ile kullanıcıların basit şifreler koyması engellenir."
   ]
  },
  {
   "cell_type": "markdown",
   "metadata": {},
   "source": [
    "* **python manage.py runserver** command'ı ile proje ayağa kaldırılır.\n",
    "* **python manage.py migrate** command'ı ile projede bulunan app'lerin db'de tabloları oluşturulur.\n",
    "* **python manage.py createsuperuser** command'ı ile bir superuser oluşturulur.\n",
    "* **http://127.0.0.1:8000/admin/** url'inde projenin django tarafından oluşturulan admin paneli bulunur.\n",
    "* **python manage.py changepassword** command'ı ile user şifresi değiştirilebilir.\n",
    "* **python manage.py startapp #app_name#** command'ı ile yeni bir app oluşturulur."
   ]
  },
  {
   "cell_type": "markdown",
   "metadata": {},
   "source": [
    "Oluşturulan app içerisinde bulunan\n",
    "* *admin.py* admin paneline entegrasyon için kullanılır.\n",
    "* *models.py* db işlemleri için kullanılır.\n",
    "* *views.py* url'lerin üreteceği cevapları oluşturmak için kullanılır"
   ]
  },
  {
   "cell_type": "markdown",
   "metadata": {},
   "source": [
    "Bir app oluşturulduktan sonra *settings.py* içerisindeki \"INSTALLED_APPS\" listesine oluşturulan app eklenmelidir."
   ]
  },
  {
   "cell_type": "markdown",
   "metadata": {},
   "source": [
    "### **Models**"
   ]
  },
  {
   "cell_type": "markdown",
   "metadata": {},
   "source": [
    "App içerisinde modelleri tasarlamak için *models.py* isimli script içinden değil de models isimli bir dosya açıp modelleri ayrı scriptler halinde buradan tasarlamak daha düzenli bir yapı sağlar. Bu değişiklik yapıldıktan sonra models dosyası içerisine *__init__.py* (başında ve sonunda 2 adet \"_\" mevcut) isimli bir dosya oluşturarak Django'ya models dosyasının bir python modeli olduğu belirtilir. *__init__.py* içerisine models klasörü içerisinde oluşturulan modeller <code>from .#script_name#.py import #model_name#</code> ile tanımlanmalıdır. Örnek: <code>from .category import category_model</code>"
   ]
  },
  {
   "cell_type": "markdown",
   "metadata": {},
   "source": [
    "Bir model tasarlanırken django.db içerisindeki models ile model tasarlanmalıdır. Bu işlem *model_ismi.py* scriptine\\\n",
    "<code> from django.db import models </code>\\\n",
    "importu yapılarak gerçekleştirilir. Ardından oluşturulan model class'ı import edilen <code>models.Model</code>'den miras almalıdır."
   ]
  },
  {
   "cell_type": "markdown",
   "metadata": {},
   "source": [
    "slug: berkaycakmak.com/**hakkimda**, bu linkteki \"hakkimda\" bölümüne slug adı verilir. **django-autoslug** modülü ile modellerde slug'lar otomatik olarak oluşturulabilir."
   ]
  },
  {
   "cell_type": "markdown",
   "metadata": {},
   "source": [
    "Oluşturulan modelin db'de hangi tablo ismi ile oluşturulacağını belirlemek için model class'ı içerisine \"Meta\" isimli bir class tanımlanır ve bu class içerisinde \"db_table\" değişkeni tanımlanarak tablo ismi belirlenir:\\\n",
    "<code>class Meta():\\\n",
    "        db_table = \"#table_name#\"\\\n",
    "</code>"
   ]
  },
  {
   "cell_type": "markdown",
   "metadata": {},
   "source": [
    "Bir model oluşturulduktan sonra **python manage.py makemigrations** command'ı ile db'ye yapılacak olan migration'lar çıkarılır, ardından **python manage.py migrate** command'ı ile bu migration'lar gerçekleştirilir."
   ]
  },
  {
   "cell_type": "markdown",
   "metadata": {},
   "source": [
    "Bir modeli admin paneli ile ilişkilendirmek için *admin.py* içerisinde öncelikle model import edilir, örnek olarak <code>from blog.models import category_model</code>. Ardından bu model <code>admin.site.register(category_model)</code> kod bloğu ile admin paneline yerleştirilir."
   ]
  },
  {
   "cell_type": "markdown",
   "metadata": {},
   "source": [
    "Bir model için admin paneli düzenlenebilir. Bunun için *admin.py* dosyası içerisine bir class oluşturulmalı ve bu class <code>admin.ModelAdmin</code>'den miras almalıdır. Ardından düzenlenmek istenen model'in admin paneli için çeşitli düzenlemeler bu class içerisinden yapılabilir. Örnek olarak <code>search_fields = (\"#search_1#\", \"#search_2#\")</code> variable'ı tanımlanarak admin panelinde #search_1# ve #search_2# başlıkları üzerinde arama yapabilir, <code>list_display = (\"#disp_1#\", \"#disp_2#\", \"#disp_3#\")</code> variable'ı tanımlanarak admin panelinde gösterilecek field'lar ayarlanabilir."
   ]
  },
  {
   "cell_type": "markdown",
   "metadata": {},
   "source": [
    "### **ORM (Object Relational Mapping)**"
   ]
  },
  {
   "cell_type": "markdown",
   "metadata": {},
   "source": [
    "ORM'de işlemler yapmak için <code>python manage.py shell</code> command'ı kullanılır.\\\n",
    "Bu command'dan sonra shell'e üzerinde çalışılacak tablo import edilmelidir. Import işlemi şu şekilde örneklenebilir: <code>from blog.models import contact_model</code>\\\n",
    "Tablo import edildikten sonra #tablo_ismi#.objects fonksiyonu ile tablo üzerinde işlemler yapılmaya başlanabilir. Örneğin <code>contact_model.objects.all()</code> veya <code>contact_model.objects.get(id=1)</code>\\\n",
    "Shell üzerinden bir model objesi oluşturularak tabloya kaydedilebilir. Örneğin <code>person = contact_model(email = \"asd@gmail.com\", name = \"asd\", message = \"haha\")</code>, bu obje oluşturulduktan sonra <code>person.save()</code> command'ı ile tabloya kaydedilir.\\\n",
    "Daha fazlası için: https://tutorial.djangogirls.org/en/django_orm/"
   ]
  },
  {
   "cell_type": "markdown",
   "metadata": {},
   "source": [
    "### **URL ve Views**"
   ]
  },
  {
   "cell_type": "markdown",
   "metadata": {},
   "source": [
    "View'ler içerisinde tasarlanan fonksiyonların çıktıları URL'lerin yönlendirdiği linklerde görülebilir.\\\n",
    "Her bir app'in kendi views klasörü ve ***urls.py*** dosyası olmalıdır, bu URL'ler sonrasında include kullanılarak config'deki ***urls.py***'da birleştirilmelidir."
   ]
  },
  {
   "cell_type": "markdown",
   "metadata": {},
   "source": [
    "### **Templates**"
   ]
  },
  {
   "cell_type": "markdown",
   "metadata": {},
   "source": [
    "View'lerin kullanması gereken ve sayfanın frontend'ini oluşturan html dosyaları bu klasörde tutulmalıdır."
   ]
  },
  {
   "cell_type": "markdown",
   "metadata": {},
   "source": [
    "static isimli klasörlerin içinde css vs js template'leri bulunmalıdır. Eğer her bir app için static dosyalar tanımlanacaksa *settings.py* içerisinde bir değişiklik yapmaya gerek yoktur ancak tüm proje için tek bir static dosyası olacaksa bu dosyayı proje path'ine açıp ardından *settings.py* dosyası içerisinde <code>STATICFILES_DIRS = [BASE_DIR / \"static\"]</code> tanımı yapılması gerekmektedir.\\\n",
    "\\\n",
    "Localde bulunan static dosyaları html'e import etmek için başta <code>{load static}</code> tanımı yapılmalıdır."
   ]
  },
  {
   "cell_type": "markdown",
   "metadata": {},
   "source": [
    "Tasarım yapılırken bootstrap'tan kod alınabilir: https://getbootstrap.com/docs"
   ]
  },
  {
   "cell_type": "markdown",
   "metadata": {},
   "source": [
    "Template'ler tasarlanırken genel bir template içerisine sayfalara özel template'ler oluşturmak için template kalıtımı yapılabilir. Bunun için proje dosyası içerisine templates dosyası oluşturulmalı, ardından *settings.py* içerisindeki \"TEMPLATES\" değişkeni içerisinde bulunan \"DIRS\" key'ine <code>[BASE_DIR / \"templates\"]</code> kodu eklenmelidir.\\\n",
    "\\\n",
    "Not: Ana template her zaman app'ler içerisindeki template'leri ezer."
   ]
  },
  {
   "cell_type": "markdown",
   "metadata": {},
   "source": [
    "Üzerinden kalıtım yapılacak ana template (çerçeve) proje içerisindeki templates klasöründe bulunmalıdır. Ana template'de sayfalara özgü oluşacak bölümler <code>{% block #degisken_adi %}{% endblock %}</code> ile özelleştirilmek üzere bekletilir.\\\n",
    "Kalıtım alacak template'ler öncelikle ana template'den <code>{% extends \"#kalitim_yapilacak_template.html\" %}</code> kod bloğu ile ana template'den kalıtımı alır. Ardından kalıtım aldığı template'de bulunan özelleştirilecek alanlar aynı isimli bloklar altında özelleştirilir."
   ]
  },
  {
   "cell_type": "markdown",
   "metadata": {},
   "source": [
    "Kalıtıma örnek olarak:\\\n",
    "Ana template'de <code>{% block title %}{% endblock %}</code> bölümü mevcut ise kalıtımı alacak template'de bu bölüm <code>{% block title %} Main Page {% endblock %}</code> bölümü ile doldurulur. Böylelikle ana template'de title bölümüne \"Main Page\" yazılmış olur."
   ]
  },
  {
   "cell_type": "markdown",
   "metadata": {},
   "source": [
    "Çerçeve template bileşenlerine bölünebilir. Bu işlemi yapmak için bölünecek html dosyası ile aynı path'de components isimli bir klasör oluşturulur ve bu klasör içerisine belirli bileşenlerin html kodları gömülür. Bileşenler farklı dosyalara bölündükten sonra çerçeve template içerisine <code>include</code> ile eklenir. Örnek olarak bir sidebar için *sidebar.html* oluşturulur ve çerçeve template'de sidebar kodunun geleceği yere <code>{% include \"components/sidebar.html\" %}</code> olarak sidebar kodu implement edilir."
   ]
  },
  {
   "cell_type": "markdown",
   "metadata": {},
   "source": [
    "HTML'de if-else yapısı kurulabilir. Bu yapı için view'de bulunan context içerisindeki key değerleri üzerinden bir yapı kurulabilir. Örnek olarak;\\\n",
    "    {% if num == 5 %}\\\n",
    "        num is 5.\\\n",
    "    {% else %}\\\n",
    "        num is not 5.\\\n",
    "    {% endif %}"
   ]
  },
  {
   "cell_type": "markdown",
   "metadata": {},
   "source": [
    "HTML üzerinde filtreler yapmak için döküman: https://docs.djangoproject.com/en/4.2/ref/templates/builtins/"
   ]
  },
  {
   "cell_type": "markdown",
   "metadata": {},
   "source": [
    "Custom Template Tag: Template'leri dinamikleştirir. Örneğin app içerisine templatetags isimli bir klasör oluşturup bu klasör içerisinde modellerin verilerini alan scriptler ile veriler HTML'e aktarılabilir, böylelikle db üzerinde ekleme yapılan alanlar (HTML'in de konfigüre edilmesiyle) otomatik olarak frontend'e yansır. Örnek olarak proje içerisindeki */blog/templatetags/category_list.py* ve */blog/templates/components/navbar.html* incelenebilir."
   ]
  },
  {
   "cell_type": "markdown",
   "metadata": {},
   "source": [
    "Akış şeması: Model oluşturulur, modelden db'ye tablo otomatik olarak oluşur. -> View içerisinden model çağrılır. -> HTML view'a bağlıdır, view'da context dict'i içerisindeki variable'lar HTML'de kullanılabilir."
   ]
  },
  {
   "cell_type": "markdown",
   "metadata": {},
   "source": [
    "Pagination akış şeması: Pagination yapılmak istenen sayfanın view'ine pagination modülü import edilir. -> Request ile page verisi kullanıcıdan alınır, pagination modülü ile sayfalanacak içerikler sayfalanır. -> HTML'de requestler butonlara gömülür. Örnek olarak */blog/views/mainpage.py* ve */blog/templates/mainpage.html* incelenebilir."
   ]
  },
  {
   "cell_type": "markdown",
   "metadata": {},
   "source": [
    "Formlarda CharField'ların widgetleri değiştirilerek CharField istenilen şekle sokulabilir.\\\n",
    "Widgets: https://docs.djangoproject.com/en/4.2/ref/forms/widgets/"
   ]
  },
  {
   "cell_type": "markdown",
   "metadata": {},
   "source": [
    "Not: Formların görünüşü Crispy Form eklentisi ile güzelleştirilebilir."
   ]
  },
  {
   "cell_type": "markdown",
   "metadata": {},
   "source": [
    "Modele direkt veri girmek için ModelForm kullanılabilir (*bkz: /blog/forms/add_writing.py*)"
   ]
  },
  {
   "cell_type": "markdown",
   "metadata": {},
   "source": [
    "Formlara default değerler atamak için \"initial\" argümanı kullanılabilir. Örneğin\\\n",
    "<code>form = contact_form(initial={\"name\": \"Berkay Cakmak\"})</code>\\\n",
    "Bu argüman ile name bölümündeki default değer \"Berkay Cakmak\" olarak gelecektir.\\\n",
    "\"initial\" yerine \"data\" da kullanılabilir. İkisinin farkı \"initial\" formdaki errorları gözardı eder, \"data\" etmez."
   ]
  },
  {
   "cell_type": "markdown",
   "metadata": {},
   "source": [
    "Bir formda resim yükleme söz konusu ise form bloğuna <code>enctype=\"multipart/form-data\"</code> eklenmelidir."
   ]
  },
  {
   "cell_type": "markdown",
   "metadata": {},
   "source": [
    "Message framework ile aksiyonlar gerçekleştirildiğinde kullanıcıya mesaj gösterilebilir. Örnek için */blog/views/delete_comment.py* ve */blog/templates/pages/detail.html* incelenebilir."
   ]
  },
  {
   "cell_type": "markdown",
   "metadata": {},
   "source": [
    "Not: */templates/base.html*'de content bloğu için html div'de if statement var."
   ]
  },
  {
   "cell_type": "markdown",
   "metadata": {},
   "source": [
    "Class based view yapıldığında *urls.py*'deki view argümanının sonuna \".as_view()\" konulur."
   ]
  },
  {
   "cell_type": "markdown",
   "metadata": {},
   "source": [
    "Class based list view'de pagination yapıldığında template'e page_obj objesi django tarafından gönderilir, bu obje ile sayfalar arası geçiş sağlanır."
   ]
  },
  {
   "cell_type": "markdown",
   "metadata": {},
   "source": [
    "Lottie ile animasyon oynatmak için *base.html* içerisine Lottie'nin mjs'si eklenmelidir. *blog/templates/pages/email-sent.html*'de örneği mevcut."
   ]
  },
  {
   "cell_type": "markdown",
   "metadata": {},
   "source": [
    "Environ kütüphanesi ile github'da vs gösterilmemesi gereken veriler gizlenebilir. Proje path'ine *.env* isimli bir dosya açılır ve gizlenecek değişkenler bu dosya içerisine (stringler tırnak olmadan) yazılır. Ardından\\\n",
    "<code>env = environ.Env()\\\n",
    "environ.Env.read_env()</code>\n",
    "ile modül içerisine çağrılır ve istenen variable'ların gizlenmiş değerleri <code>env(#variable_ismi#)</code> ile çağrılır."
   ]
  },
  {
   "cell_type": "markdown",
   "metadata": {},
   "source": [
    ".env dosyası gitignore ile Github'a aktarılmaz, diğer yazılımcıların bu dosyadaki değerleri bilip kendi değerlerini yazabilmeleri için *.env-example* dosyası oluşturularak içerisine gizlenen değerlerin isimleri yazılabilir ve Github'a bu dosya aktarılabilir."
   ]
  },
  {
   "cell_type": "markdown",
   "metadata": {},
   "source": [
    "Settings dosyası bölündüğünde uygulamanın üzerinde çalışacağı settings dosyası *manage.py* içerisinde belirtilmeli, veya server ayağa kaldırılıken **python manage.py runserver --settings=config.settings.#setting_name#** komutu kullanılmalıdır. "
   ]
  },
  {
   "cell_type": "markdown",
   "metadata": {},
   "source": [
    "Logging için **logging** modülü kullanılır.\\\n",
    "Öncelikle view içerisine bir logger tanımlanır. Örn: <code>logger = logging.getLogger(\"#logger_name#\")</code>\\\n",
    "Ardından log'un tutulacağı yere (bir işlem yapıldığında vs) logger çağrılarak log'lara bir kayıt yapılır. Örn: <code>logger.info(\"#işlem#: \" + request.user.username)</code>\\\n",
    "8 farklı logging yöntemi vardır. Bunlar seviyelerine göre: CRITICAL = 50, FATAL = CRITICAL, ERROR = 40, WARNING = 30, WARN = WARNING, INFO = 20, DEBUG = 10, NOTSET = 0\\\n",
    "Loglama işlemi view içerisinde yapıldıktan sonra settings'deki base setting dosyasında bir LOGGING dictionary'si tanımlanmalı ve view'ler içerisinde yapılan logging'ler bu dict içindeki \"loggers\" key'i altında bulunmalıdır.\\\n",
    "Settings'de bulunan dict içerisinde **formatters** ve **handlers**  gibi 2 adet daha tanımlanması gereken önemli key vardır.\\\n",
    " **formatters** key'i içerisinde bir formatter key'i girilmeli, bu key içerisine de formatter'in log'u nasıl formatlayacağı tanımlanmalıdır. Django'da bir çok formatter vardır: https://docs.djangoproject.com/en/3.1/topics/logging/\\\n",
    " **handlers** key'i içerisinde ise log'un ne yapılacağına yani konsola yazdırmak veya bir file'a yazdırmak gibi işlemlere karar verilir.\\\n",
    " Logların bir DB'de tutulması için Sentry kullanılabilir. Daha basic application'larda **django-db-logger** kütüphanesi ile loglar DB'ye kolayca aktarılabilir.\n"
   ]
  },
  {
   "cell_type": "markdown",
   "metadata": {},
   "source": []
  }
 ],
 "metadata": {
  "language_info": {
   "name": "python"
  }
 },
 "nbformat": 4,
 "nbformat_minor": 2
}
