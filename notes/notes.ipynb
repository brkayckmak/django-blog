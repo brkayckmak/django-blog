{
 "cells": [
  {
   "cell_type": "markdown",
   "metadata": {},
   "source": [
    "# **GIT**"
   ]
  },
  {
   "cell_type": "markdown",
   "metadata": {},
   "source": [
    "### **GIT Komutları**"
   ]
  },
  {
   "cell_type": "markdown",
   "metadata": {},
   "source": [
    "* **git init**: Bu command ile bulunulan path bir git ortamına dönüştürülür.\n",
    "* **git status**: Dosya içerisinde neler olup bittiğini (değiştirildiğini) görmek için kullanılır.\n",
    "* **git add .**: Bu komut ile git reposu staging kısmına aktarılır. Bu kısımda repo içerisinde bulunan dosyalar kalıcı olarak kaydedilmek üzere beklemektedir.\n",
    "* **git add #dosya_adi#**: Bu komut ile sadece istenilen dosya staging'e aktarılır. \n",
    "* **git rm --cached #dosya_adi#**: Bu komut ile belirtilen dosya staging'den çıkarılır, bu dosya artık kaydetmeye hazır değildir.\n",
    "* **git commit -m \"#yorum#\"**: Git history'sinde bir yorum ile değişiklikleri kaydetmek için kullanılır.\n",
    "* **git log**: Bu command ile geçmiş commitler gösterilir.\n",
    "* **git reset --hard**: Otomatik olarak bir önceki commit'te bulunan dosya düzenine dönülür."
   ]
  },
  {
   "cell_type": "markdown",
   "metadata": {},
   "source": [
    "### **GIT Branch**"
   ]
  },
  {
   "cell_type": "markdown",
   "metadata": {},
   "source": [
    "![alternate image name](./git_branch_merge.png)"
   ]
  },
  {
   "cell_type": "markdown",
   "metadata": {},
   "source": [
    "Master, projenin ana köküdür. Mavi daireler ise commitlerdir."
   ]
  },
  {
   "cell_type": "markdown",
   "metadata": {},
   "source": [
    "Projeye yeni gelen biri new_feature gibi bir branch açar, bu branch master ile aynı dosya düzenine ve içeriğine sahiptir. new_feature branch'i düzenlendiğinde master'a merge edilerek yeni dosyalar projeye eklenir."
   ]
  },
  {
   "cell_type": "markdown",
   "metadata": {},
   "source": [
    "* **git branch**: Bu command ile repo'daki branchler görülür.\n",
    "* **git branch #branch_adi#**: Bu command ile yeni bir branch oluşturulur.\n",
    "* **git checkout #branch_adi#**: Bu command ile istenen branch'e geçilir."
   ]
  },
  {
   "cell_type": "markdown",
   "metadata": {},
   "source": [
    "Bir branch oluşturup bu branch'te değişiklikler yaptıktan sonra master branch'ine geçildiğinde yeni branch'te yapılan değişiklikşler master'a merge edilmediği için kaybolur. Oluşturulan branch'e geçildiğinde yeniden görünmeye başlar."
   ]
  },
  {
   "cell_type": "markdown",
   "metadata": {},
   "source": [
    "* **git merge #branch_adi#**: Bu command ile master'dayken istenilen branch master'a merge edilir. Merge edilecek branch'teki değişiklikler master'a aktarılır.\n",
    "* **git branch -D #branch_adi#**: By command ile istenilen branch silinir."
   ]
  },
  {
   "cell_type": "markdown",
   "metadata": {},
   "source": [
    "### **GITHUB'a Aktarma**"
   ]
  },
  {
   "cell_type": "markdown",
   "metadata": {},
   "source": [
    "* **git remote add origin #repo_linki#**: Bu command ile local'daki dosya repoya bağlanır.\n",
    "* **git push origin #branch_adi#**: Bu command ile belirlenen branch'e local'daki dosyalar gönderilir."
   ]
  },
  {
   "cell_type": "markdown",
   "metadata": {},
   "source": [
    "# **DJANGO**"
   ]
  },
  {
   "cell_type": "markdown",
   "metadata": {},
   "source": [
    "* **django-admin startproject config .**: Bu command ile bulunulan path'de bir Django projesi oluşturulur."
   ]
  },
  {
   "cell_type": "markdown",
   "metadata": {},
   "source": [
    "Yukarıdaki command girildikten sonra otomatik oluşan config dosyası projenin beynidir. manage.py dosyası ile de çeşitli şekillerde proje yönetilmektedir.\\"
   ]
  },
  {
   "cell_type": "markdown",
   "metadata": {},
   "source": [
    "Config dosyası içerisindeki\n",
    "* wsgi.py (Web Server Gateway Interface) ve asgi.py dosyaları ile proje ile iletişime geçilmektedir.\n",
    "* settings.py dosyasında projenin ayarları tutulmaktadır.\n",
    "* urls.py dosyasında proje içerisinde bulunacak tüm url'ler bulunmaktadır."
   ]
  },
  {
   "cell_type": "markdown",
   "metadata": {},
   "source": [
    "settings.py içerisindeki\n",
    "* \"SECRET_KEY\" projenin güvenli anahtarıdır, paylaşılmamalıdır.\n",
    "* \"DEBUG\" bu mod açıkken tüm hatalar görünmektedir. Productionda bu mod kapatılmalıdır.\n",
    "* \"ALLOWED_HOSTS\" productionda hangi dıştaki bilgisayarların ve yazılımların bu proje ile haberleşebileceği tanımlanır.\n",
    "* \"INSTALLED_APPS\" projede kullanılacak app'ler burada tanımlanır.\n",
    "* \"MIDDLEWARE\" bu bölüm sisteme gelen isteklerin güvenli olup olmadığını kontrol eder.\n",
    "* \"ROOT_URLCONF\" projenin url'lerinin nerede olduğu belirtilir.\n",
    "* \"WSGI_APPLICATION\" projenin dış dünya ile haberleşmesi için bulunur. wsgi.py içerisindeki \"application\" ile dış dünya ile haberleşilir.\n",
    "* \"DATABASES\" projenin database'idir. Django default olarak sqlite kullanır.\n",
    "* \"AUTH_PASSWORD_VALIDATORS\" ile kullanıcıların basit şifreler koyması engellenir."
   ]
  },
  {
   "cell_type": "markdown",
   "metadata": {},
   "source": []
  }
 ],
 "metadata": {
  "language_info": {
   "name": "python"
  }
 },
 "nbformat": 4,
 "nbformat_minor": 2
}
