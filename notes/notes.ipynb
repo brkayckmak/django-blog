{
 "cells": [
  {
   "cell_type": "markdown",
   "metadata": {},
   "source": [
    "# **GIT**"
   ]
  },
  {
   "cell_type": "markdown",
   "metadata": {},
   "source": [
    "### **GIT Komutları**"
   ]
  },
  {
   "cell_type": "markdown",
   "metadata": {},
   "source": [
    "* **git init**: Bu command ile bulunulan path bir git ortamına dönüştürülür.\n",
    "* **git status**: Dosya içerisinde neler olup bittiğini (değiştirildiğini) görmek için kullanılır.\n",
    "* **git add .**: Bu komut ile git reposu staging kısmına aktarılır. Bu kısımda repo içerisinde bulunan dosyalar kalıcı olarak kaydedilmek üzere beklemektedir.\n",
    "* **git add #dosya_adi#**: Bu komut ile sadece istenilen dosya staging'e aktarılır. \n",
    "* **git rm --cached #dosya_adi#**: Bu komut ile belirtilen dosya staging'den çıkarılır, bu dosya artık kaydetmeye hazır değildir.\n",
    "* **git commit -m \"#yorum#\"**: Git history'sinde bir yorum ile değişiklikleri kaydetmek için kullanılır.\n",
    "* **git log**: Bu command ile geçmiş commitler gösterilir.\n",
    "* **git reset --hard**: Otomatik olarak bir önceki commit'te bulunan dosya düzenine dönülür."
   ]
  },
  {
   "cell_type": "markdown",
   "metadata": {},
   "source": [
    "### **GIT Branch**"
   ]
  },
  {
   "cell_type": "markdown",
   "metadata": {},
   "source": [
    "![branch_merge](./git_branch_merge.png)"
   ]
  },
  {
   "cell_type": "markdown",
   "metadata": {},
   "source": [
    "Master, projenin ana köküdür. Mavi daireler ise commitlerdir."
   ]
  },
  {
   "cell_type": "markdown",
   "metadata": {},
   "source": [
    "Projeye yeni gelen biri new_feature gibi bir branch açar, bu branch master ile aynı dosya düzenine ve içeriğine sahiptir. new_feature branch'i düzenlendiğinde master'a merge edilerek yeni dosyalar projeye eklenir."
   ]
  },
  {
   "cell_type": "markdown",
   "metadata": {},
   "source": [
    "* **git branch**: Bu command ile repo'daki branchler görülür.\n",
    "* **git branch #branch_adi#**: Bu command ile yeni bir branch oluşturulur.\n",
    "* **git checkout #branch_adi#**: Bu command ile istenen branch'e geçilir."
   ]
  },
  {
   "cell_type": "markdown",
   "metadata": {},
   "source": [
    "Bir branch oluşturup bu branch'te değişiklikler yaptıktan sonra master branch'ine geçildiğinde yeni branch'te yapılan değişiklikşler master'a merge edilmediği için kaybolur. Oluşturulan branch'e geçildiğinde yeniden görünmeye başlar."
   ]
  },
  {
   "cell_type": "markdown",
   "metadata": {},
   "source": [
    "* **git merge #branch_adi#**: Bu command ile master'dayken istenilen branch master'a merge edilir. Merge edilecek branch'teki değişiklikler master'a aktarılır.\n",
    "* **git branch -D #branch_adi#**: By command ile istenilen branch silinir."
   ]
  },
  {
   "cell_type": "markdown",
   "metadata": {},
   "source": [
    "### **GITHUB'a Aktarma**"
   ]
  },
  {
   "cell_type": "markdown",
   "metadata": {},
   "source": [
    "* **git remote add origin #repo_linki#**: Bu command ile local'daki dosya repoya bağlanır.\n",
    "* **git push origin #branch_adi#**: Bu command ile belirlenen branch'e local'daki dosyalar gönderilir."
   ]
  },
  {
   "cell_type": "markdown",
   "metadata": {},
   "source": [
    "# **DJANGO**"
   ]
  },
  {
   "cell_type": "markdown",
   "metadata": {},
   "source": [
    "* **django-admin startproject config .**: Bu command ile bulunulan path'de bir Django projesi oluşturulur."
   ]
  },
  {
   "cell_type": "markdown",
   "metadata": {},
   "source": [
    "Yukarıdaki command girildikten sonra otomatik oluşan config dosyası projenin beynidir. manage.py dosyası ile de çeşitli şekillerde proje yönetilmektedir.\\"
   ]
  },
  {
   "cell_type": "markdown",
   "metadata": {},
   "source": [
    "Config dosyası içerisindeki\n",
    "* *wsgi.py* (Web Server Gateway Interface) ve *asgi.py* dosyaları ile proje ile iletişime geçilmektedir.\n",
    "* *settings.py* dosyasında projenin ayarları tutulmaktadır.\n",
    "* *urls.py* dosyasında proje içerisinde bulunacak tüm url'ler bulunmaktadır."
   ]
  },
  {
   "cell_type": "markdown",
   "metadata": {},
   "source": [
    "settings.py içerisindeki\n",
    "* \"SECRET_KEY\" projenin güvenli anahtarıdır, paylaşılmamalıdır.\n",
    "* \"DEBUG\" bu mod açıkken tüm hatalar görünmektedir. Productionda bu mod kapatılmalıdır.\n",
    "* \"ALLOWED_HOSTS\" productionda hangi dıştaki bilgisayarların ve yazılımların bu proje ile haberleşebileceği tanımlanır.\n",
    "* \"INSTALLED_APPS\" projede kullanılacak app'ler burada tanımlanır.\n",
    "* \"MIDDLEWARE\" bu bölüm sisteme gelen isteklerin güvenli olup olmadığını kontrol eder.\n",
    "* \"ROOT_URLCONF\" projenin url'lerinin nerede olduğu belirtilir.\n",
    "* \"WSGI_APPLICATION\" projenin dış dünya ile haberleşmesi için bulunur. wsgi.py içerisindeki \"application\" ile dış dünya ile haberleşilir.\n",
    "* \"DATABASES\" projenin database'idir. Django default olarak sqlite kullanır.\n",
    "* \"AUTH_PASSWORD_VALIDATORS\" ile kullanıcıların basit şifreler koyması engellenir."
   ]
  },
  {
   "cell_type": "markdown",
   "metadata": {},
   "source": [
    "* **python manage.py runserver** command'ı ile proje ayağa kaldırılır.\n",
    "* **python manage.py migrate** command'ı ile projede bulunan app'lerin db'de tabloları oluşturulur.\n",
    "* **python manage.py createsuperuser** command'ı ile bir superuser oluşturulur.\n",
    "* **http://127.0.0.1:8000/admin/** url'inde projenin django tarafından oluşturulan admin paneli bulunur.\n",
    "* **python manage.py changepassword** command'ı ile user şifresi değiştirilebilir.\n",
    "* **python manage.py startapp #app_name#** command'ı ile yeni bir app oluşturulur."
   ]
  },
  {
   "cell_type": "markdown",
   "metadata": {},
   "source": [
    "Oluşturulan app içerisinde bulunan\n",
    "* *admin.py* admin paneline entegrasyon için kullanılır.\n",
    "* *models.py* db işlemleri için kullanılır.\n",
    "* *views.py* url'lerin üreteceği cevapları oluşturmak için kullanılır"
   ]
  },
  {
   "cell_type": "markdown",
   "metadata": {},
   "source": [
    "Bir app oluşturulduktan sonra *settings.py* içerisindeki \"INSTALLED_APPS\" listesine oluşturulan app eklenmelidir."
   ]
  },
  {
   "cell_type": "markdown",
   "metadata": {},
   "source": [
    "App içerisinde modelleri tasarlamak için *models.py* isimli script içinden değil de models isimli bir dosya açıp modelleri ayrı scriptler halinde buradan tasarlamak daha düzenli bir yapı sağlar. Bu değişiklik yapıldıktan sonra models dosyası içerisine *__init__.py* (başında ve sonunda 2 adet \"_\" mevcut) isimli bir dosya oluşturarak Django'ya models dosyasının bir python modeli olduğu belirtilir. *__init__.py* içerisine models klasörü içerisinde oluşturulan modeller <code>from .#script_name#.py import #model_name#</code> ile tanımlanmalıdır. Örnek: <code>from .category import category_model</code>"
   ]
  },
  {
   "cell_type": "markdown",
   "metadata": {},
   "source": [
    "Bir model tasarlanırken django.db içerisindeki models ile model tasarlanmalıdır. Bu işlem *model_ismi.py* scriptine\\\n",
    "<code> from django.db import models </code>\\\n",
    "importu yapılarak gerçekleştirilir. Ardından oluşturulan model class'ı import edilen models.Model'den miras almalıdır."
   ]
  },
  {
   "cell_type": "markdown",
   "metadata": {},
   "source": [
    "slug: berkaycakmak.com/**hakkimda**, bu linkteki \"hakkimda\" bölümüne slug adı verilir. **django-autoslug** modülü ile modellerde slug'lar otomatik olarak oluşturulabilir."
   ]
  },
  {
   "cell_type": "markdown",
   "metadata": {},
   "source": [
    "Oluşturulan modelin db'de hangi tablo ismi ile oluşturulacağını belirlemek için model class'ı içerisine \"Meta\" isimli bir class tanımlanır ve bu class içerisinde \"db_table\" değişkeni tanımlanarak tablo ismi belirlenir:\\\n",
    "<code>class Meta():\\\n",
    "        db_table = \"#table_name#\"\\\n",
    "</code>"
   ]
  },
  {
   "cell_type": "markdown",
   "metadata": {},
   "source": [
    "Bir model oluşturulduktan sonra **python manage.py makemigrations** command'ı ile db'ye yapılacak olan migration'lar çıkarılır, ardından ***python manage.py migrate** *command'ı ile bu migration'lar gerçekleştirilir."
   ]
  },
  {
   "cell_type": "markdown",
   "metadata": {},
   "source": [
    "Bir modeli admin paneli ile ilişkilendirmek için *admin.py* içerisinde öncelikle model import edilir, örnek olarak <code>from blog.models import category_model</code>. Ardından bu model <code>admin.site.register(category_model)</code> kod bloğu ile admin paneline yerleştirilir."
   ]
  },
  {
   "cell_type": "markdown",
   "metadata": {},
   "source": []
  }
 ],
 "metadata": {
  "language_info": {
   "name": "python"
  }
 },
 "nbformat": 4,
 "nbformat_minor": 2
}
